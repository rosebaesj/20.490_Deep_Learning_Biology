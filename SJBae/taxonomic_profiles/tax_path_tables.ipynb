{
 "cells": [
  {
   "cell_type": "code",
   "execution_count": 27,
   "id": "2ca32d1b-9d56-4f7f-b628-cf11c3e1fe00",
   "metadata": {
    "tags": []
   },
   "outputs": [
    {
     "data": {
      "text/html": [
       "<div>\n",
       "<style scoped>\n",
       "    .dataframe tbody tr th:only-of-type {\n",
       "        vertical-align: middle;\n",
       "    }\n",
       "\n",
       "    .dataframe tbody tr th {\n",
       "        vertical-align: top;\n",
       "    }\n",
       "\n",
       "    .dataframe thead th {\n",
       "        text-align: right;\n",
       "    }\n",
       "</style>\n",
       "<table border=\"1\" class=\"dataframe\">\n",
       "  <thead>\n",
       "    <tr style=\"text-align: right;\">\n",
       "      <th></th>\n",
       "      <th>Feature\\Sample</th>\n",
       "      <th>CSM5FZ3N_P</th>\n",
       "      <th>CSM5FZ3R_P</th>\n",
       "      <th>CSM5FZ3T_P</th>\n",
       "      <th>CSM5FZ3V_P</th>\n",
       "      <th>CSM5FZ3X_P</th>\n",
       "      <th>CSM5FZ3Z_P</th>\n",
       "      <th>CSM5FZ42_P</th>\n",
       "      <th>CSM5FZ44_P</th>\n",
       "      <th>CSM5FZ46_P</th>\n",
       "    </tr>\n",
       "  </thead>\n",
       "  <tbody>\n",
       "    <tr>\n",
       "      <th>0</th>\n",
       "      <td>UNKNOWN</td>\n",
       "      <td>0.0</td>\n",
       "      <td>0.0</td>\n",
       "      <td>0.0</td>\n",
       "      <td>0.0</td>\n",
       "      <td>0.0</td>\n",
       "      <td>0.0</td>\n",
       "      <td>0.0</td>\n",
       "      <td>0.0</td>\n",
       "      <td>0.0</td>\n",
       "    </tr>\n",
       "    <tr>\n",
       "      <th>1</th>\n",
       "      <td>k__Archaea</td>\n",
       "      <td>0.0</td>\n",
       "      <td>0.0</td>\n",
       "      <td>0.0</td>\n",
       "      <td>0.0</td>\n",
       "      <td>0.0</td>\n",
       "      <td>0.0</td>\n",
       "      <td>0.0</td>\n",
       "      <td>0.0</td>\n",
       "      <td>0.0</td>\n",
       "    </tr>\n",
       "    <tr>\n",
       "      <th>2</th>\n",
       "      <td>k__Archaea|p__Euryarchaeota</td>\n",
       "      <td>0.0</td>\n",
       "      <td>0.0</td>\n",
       "      <td>0.0</td>\n",
       "      <td>0.0</td>\n",
       "      <td>0.0</td>\n",
       "      <td>0.0</td>\n",
       "      <td>0.0</td>\n",
       "      <td>0.0</td>\n",
       "      <td>0.0</td>\n",
       "    </tr>\n",
       "    <tr>\n",
       "      <th>3</th>\n",
       "      <td>k__Archaea|p__Euryarchaeota|c__Methanobacteria</td>\n",
       "      <td>0.0</td>\n",
       "      <td>0.0</td>\n",
       "      <td>0.0</td>\n",
       "      <td>0.0</td>\n",
       "      <td>0.0</td>\n",
       "      <td>0.0</td>\n",
       "      <td>0.0</td>\n",
       "      <td>0.0</td>\n",
       "      <td>0.0</td>\n",
       "    </tr>\n",
       "    <tr>\n",
       "      <th>4</th>\n",
       "      <td>k__Archaea|p__Euryarchaeota|c__Methanobacteria...</td>\n",
       "      <td>0.0</td>\n",
       "      <td>0.0</td>\n",
       "      <td>0.0</td>\n",
       "      <td>0.0</td>\n",
       "      <td>0.0</td>\n",
       "      <td>0.0</td>\n",
       "      <td>0.0</td>\n",
       "      <td>0.0</td>\n",
       "      <td>0.0</td>\n",
       "    </tr>\n",
       "  </tbody>\n",
       "</table>\n",
       "</div>"
      ],
      "text/plain": [
       "                                      Feature\\Sample  CSM5FZ3N_P  CSM5FZ3R_P  \\\n",
       "0                                            UNKNOWN         0.0         0.0   \n",
       "1                                         k__Archaea         0.0         0.0   \n",
       "2                        k__Archaea|p__Euryarchaeota         0.0         0.0   \n",
       "3     k__Archaea|p__Euryarchaeota|c__Methanobacteria         0.0         0.0   \n",
       "4  k__Archaea|p__Euryarchaeota|c__Methanobacteria...         0.0         0.0   \n",
       "\n",
       "   CSM5FZ3T_P  CSM5FZ3V_P  CSM5FZ3X_P  CSM5FZ3Z_P  CSM5FZ42_P  CSM5FZ44_P  \\\n",
       "0         0.0         0.0         0.0         0.0         0.0         0.0   \n",
       "1         0.0         0.0         0.0         0.0         0.0         0.0   \n",
       "2         0.0         0.0         0.0         0.0         0.0         0.0   \n",
       "3         0.0         0.0         0.0         0.0         0.0         0.0   \n",
       "4         0.0         0.0         0.0         0.0         0.0         0.0   \n",
       "\n",
       "   CSM5FZ46_P  \n",
       "0         0.0  \n",
       "1         0.0  \n",
       "2         0.0  \n",
       "3         0.0  \n",
       "4         0.0  "
      ]
     },
     "execution_count": 27,
     "metadata": {},
     "output_type": "execute_result"
    }
   ],
   "source": [
    "import pandas as pd\n",
    "\n",
    "# Load the merged TSV file\n",
    "df = pd.read_csv(\"taxonomic_profiles_3.tsv\", sep=\"\\t\")\n",
    "\n",
    "# Rename columns by removing '_profile' suffix (skip the first column)\n",
    "df.columns = [col.replace('_profile', '') for col in df.columns]\n",
    "\n",
    "# Display the first 5 rows and first 10 columns\n",
    "df.iloc[:5, :10]"
   ]
  },
  {
   "cell_type": "code",
   "execution_count": 28,
   "id": "23afc729-b926-42c2-b5a6-904c17f5e1fc",
   "metadata": {
    "tags": []
   },
   "outputs": [],
   "source": [
    "def extract_taxa_level(df, tax_level=\"genus\"):\n",
    "    \"\"\"\n",
    "    Extract genus- or species-level rows from a MetaPhlAn merged table,\n",
    "    with unique taxonomy labels (prepend parent if duplicated).\n",
    "\n",
    "    Parameters:\n",
    "    - df (pd.DataFrame): Loaded MetaPhlAn dataframe.\n",
    "    - tax_level (str): \"genus\" or \"species\".\n",
    "\n",
    "    Returns:\n",
    "    - pd.DataFrame: Subsetted and renamed dataframe.\n",
    "    \"\"\"\n",
    "    # Define regex filters\n",
    "    if tax_level == \"genus\":\n",
    "        tax_filter = df.iloc[:, 0].str.contains(r'\\|g__', na=False) & ~df.iloc[:, 0].str.contains(r'\\|s__', na=False)\n",
    "    elif tax_level == \"species\":\n",
    "        tax_filter = df.iloc[:, 0].str.contains(r'\\|s__', na=False)\n",
    "    else:\n",
    "        raise ValueError(\"tax_level must be 'genus' or 'species'\")\n",
    "\n",
    "    df_tax = df[tax_filter].copy()\n",
    "\n",
    "    # Extract taxonomy label (g__ or s__) and optional parent level\n",
    "    df_tax['tax_name'] = df_tax.iloc[:, 0].str.extract(rf'{tax_level[0]}__([^|]*)')[0]\n",
    "\n",
    "    if tax_level == \"genus\":\n",
    "        df_tax['parent'] = df_tax.iloc[:, 0].str.extract(r'f__([^|]*)')[0]\n",
    "    elif tax_level == \"species\":\n",
    "        df_tax['parent'] = df_tax.iloc[:, 0].str.extract(r'g__([^|]*)')[0]\n",
    "\n",
    "    # Handle duplicates by prepending parent\n",
    "    duplicated = df_tax['tax_name'].duplicated(keep=False)\n",
    "    df_tax['taxonomy_label'] = df_tax.apply(\n",
    "        lambda row: f\"{row['parent']}:{row['tax_name']}\" if duplicated[row.name] else row['tax_name'],\n",
    "        axis=1\n",
    "    )\n",
    "\n",
    "    # Replace original taxonomy column\n",
    "    df_tax.iloc[:, 0] = df_tax['taxonomy_label']\n",
    "    df_tax.drop(columns=['tax_name', 'parent', 'taxonomy_label'], inplace=True)\n",
    "\n",
    "    return df_tax\n",
    "\n"
   ]
  },
  {
   "cell_type": "code",
   "execution_count": 29,
   "id": "7ed5a6cb-d013-4581-957c-fe4ce65b1575",
   "metadata": {
    "tags": []
   },
   "outputs": [],
   "source": [
    "def filter_by_abundance(df, abundance_threshold=0.01, sample_fraction_threshold=0.10, output_path=None):\n",
    "    \"\"\"\n",
    "    Filter taxa with abundance > threshold in > fraction of samples.\n",
    "\n",
    "    Parameters:\n",
    "    - df (pd.DataFrame): Dataframe with taxa as rows and samples as columns.\n",
    "    - abundance_threshold (float): Minimum abundance (e.g., 0.01 for 0.01%).\n",
    "    - sample_fraction_threshold (float): Minimum fraction of samples (e.g., 0.1 for 10%).\n",
    "    - output_path (str, optional): If provided, saves the filtered table to this path.\n",
    "\n",
    "    Returns:\n",
    "    - pd.DataFrame: Filtered dataframe.\n",
    "    \"\"\"\n",
    "    abundance_matrix = df.iloc[:, 1:].astype(float)\n",
    "    n_samples = abundance_matrix.shape[1]\n",
    "    pass_filter = (abundance_matrix > abundance_threshold).sum(axis=1) > (sample_fraction_threshold * n_samples)\n",
    "\n",
    "    df_filtered = df[pass_filter]\n",
    "\n",
    "    if output_path:\n",
    "        df_filtered.to_csv(output_path, sep=\"\\t\", index=False)\n",
    "\n",
    "    return df_filtered\n"
   ]
  },
  {
   "cell_type": "code",
   "execution_count": 30,
   "id": "64160180-4dd6-46a0-8626-c1f7196e76b5",
   "metadata": {
    "tags": []
   },
   "outputs": [
    {
     "data": {
      "text/plain": [
       "187"
      ]
     },
     "execution_count": 30,
     "metadata": {},
     "output_type": "execute_result"
    }
   ],
   "source": [
    "df_genus = extract_taxa_level(df, tax_level=\"genus\")\n",
    "\n",
    "df_genus.shape[0]"
   ]
  },
  {
   "cell_type": "code",
   "execution_count": 31,
   "id": "680204bc-d013-477e-8d49-e338868100d0",
   "metadata": {
    "tags": []
   },
   "outputs": [],
   "source": [
    "df_genus.to_csv(\"taxonomic_profiles_3_genus.tsv\", sep=\"\\t\", index=False)"
   ]
  },
  {
   "cell_type": "code",
   "execution_count": 32,
   "id": "8f3b3d54-a1e6-483b-ac22-fb260483e546",
   "metadata": {
    "tags": []
   },
   "outputs": [],
   "source": [
    "df_genus_filter = filter_by_abundance(df_genus, abundance_threshold=0.01, sample_fraction_threshold=0.10, output_path=None)"
   ]
  },
  {
   "cell_type": "code",
   "execution_count": 33,
   "id": "da649b3a-9bb4-4bda-b708-a6fd6dabdc5c",
   "metadata": {
    "tags": []
   },
   "outputs": [
    {
     "data": {
      "text/plain": [
       "58"
      ]
     },
     "execution_count": 33,
     "metadata": {},
     "output_type": "execute_result"
    }
   ],
   "source": [
    "df_genus_filter.shape[0]"
   ]
  },
  {
   "cell_type": "code",
   "execution_count": 34,
   "id": "d4fb3538-29be-402e-b101-50263917e34e",
   "metadata": {
    "tags": []
   },
   "outputs": [],
   "source": [
    "df_genus_filter.to_csv(\"taxonomic_profiles_3_genus_filter.tsv\", sep=\"\\t\", index=False)"
   ]
  },
  {
   "cell_type": "code",
   "execution_count": 35,
   "id": "554603ab-8709-4b19-9b4a-80c583ed3649",
   "metadata": {
    "tags": []
   },
   "outputs": [
    {
     "data": {
      "text/plain": [
       "578"
      ]
     },
     "execution_count": 35,
     "metadata": {},
     "output_type": "execute_result"
    }
   ],
   "source": [
    "df_species = extract_taxa_level(df, tax_level=\"species\")\n",
    "df_species.to_csv(\"taxonomic_profiles_3_species.tsv\", sep=\"\\t\", index=False)\n",
    "\n",
    "df_species.shape[0]"
   ]
  },
  {
   "cell_type": "code",
   "execution_count": 36,
   "id": "b0350089-bf32-4228-9a7d-405082a51b1e",
   "metadata": {
    "tags": []
   },
   "outputs": [
    {
     "data": {
      "text/plain": [
       "107"
      ]
     },
     "execution_count": 36,
     "metadata": {},
     "output_type": "execute_result"
    }
   ],
   "source": [
    "df_species_filter = filter_by_abundance(df_species, abundance_threshold=0.01, sample_fraction_threshold=0.10, output_path=None)\n",
    "df_species_filter.to_csv(\"taxonomic_profiles_3_species_filter.tsv\", sep=\"\\t\", index=False)\n",
    "df_species_filter.shape[0]"
   ]
  },
  {
   "cell_type": "markdown",
   "id": "d1c2b3f9-3e3d-4288-bd78-e430742a06d5",
   "metadata": {},
   "source": [
    "# Pathabundances"
   ]
  },
  {
   "cell_type": "code",
   "execution_count": 15,
   "id": "cc4c4499-1175-454b-852d-4ac719eaa0ae",
   "metadata": {},
   "outputs": [
    {
     "data": {
      "text/html": [
       "<div>\n",
       "<style scoped>\n",
       "    .dataframe tbody tr th:only-of-type {\n",
       "        vertical-align: middle;\n",
       "    }\n",
       "\n",
       "    .dataframe tbody tr th {\n",
       "        vertical-align: top;\n",
       "    }\n",
       "\n",
       "    .dataframe thead th {\n",
       "        text-align: right;\n",
       "    }\n",
       "</style>\n",
       "<table border=\"1\" class=\"dataframe\">\n",
       "  <thead>\n",
       "    <tr style=\"text-align: right;\">\n",
       "      <th></th>\n",
       "      <th>Feature\\Sample</th>\n",
       "      <th>CSM5FZ3N_P</th>\n",
       "      <th>CSM5FZ3R_P</th>\n",
       "      <th>CSM5FZ3T_P</th>\n",
       "      <th>CSM5FZ3V_P</th>\n",
       "      <th>CSM5FZ3X_P</th>\n",
       "      <th>CSM5FZ3Z_P</th>\n",
       "      <th>CSM5FZ42_P</th>\n",
       "      <th>CSM5FZ44_P</th>\n",
       "      <th>CSM5FZ46_P</th>\n",
       "    </tr>\n",
       "  </thead>\n",
       "  <tbody>\n",
       "    <tr>\n",
       "      <th>0</th>\n",
       "      <td>UNMAPPED</td>\n",
       "      <td>334835.0</td>\n",
       "      <td>314137.0</td>\n",
       "      <td>211847.0</td>\n",
       "      <td>258470.0</td>\n",
       "      <td>262821.0</td>\n",
       "      <td>243972.0</td>\n",
       "      <td>248419.0</td>\n",
       "      <td>259163.0</td>\n",
       "      <td>252207.0</td>\n",
       "    </tr>\n",
       "    <tr>\n",
       "      <th>1</th>\n",
       "      <td>UNINTEGRATED</td>\n",
       "      <td>626270.0</td>\n",
       "      <td>645653.0</td>\n",
       "      <td>754069.0</td>\n",
       "      <td>697813.0</td>\n",
       "      <td>699100.0</td>\n",
       "      <td>713431.0</td>\n",
       "      <td>712841.0</td>\n",
       "      <td>703675.0</td>\n",
       "      <td>707898.0</td>\n",
       "    </tr>\n",
       "    <tr>\n",
       "      <th>2</th>\n",
       "      <td>UNINTEGRATED|g__Absiella.s__Absiella_dolichum</td>\n",
       "      <td>0.0</td>\n",
       "      <td>0.0</td>\n",
       "      <td>0.0</td>\n",
       "      <td>0.0</td>\n",
       "      <td>0.0</td>\n",
       "      <td>0.0</td>\n",
       "      <td>0.0</td>\n",
       "      <td>0.0</td>\n",
       "      <td>0.0</td>\n",
       "    </tr>\n",
       "    <tr>\n",
       "      <th>3</th>\n",
       "      <td>UNINTEGRATED|g__Acidaminococcus.s__Acidaminoco...</td>\n",
       "      <td>0.0</td>\n",
       "      <td>0.0</td>\n",
       "      <td>0.0</td>\n",
       "      <td>0.0</td>\n",
       "      <td>0.0</td>\n",
       "      <td>0.0</td>\n",
       "      <td>0.0</td>\n",
       "      <td>0.0</td>\n",
       "      <td>0.0</td>\n",
       "    </tr>\n",
       "    <tr>\n",
       "      <th>4</th>\n",
       "      <td>UNINTEGRATED|g__Acidaminococcus.s__Acidaminoco...</td>\n",
       "      <td>0.0</td>\n",
       "      <td>0.0</td>\n",
       "      <td>0.0</td>\n",
       "      <td>0.0</td>\n",
       "      <td>0.0</td>\n",
       "      <td>0.0</td>\n",
       "      <td>0.0</td>\n",
       "      <td>0.0</td>\n",
       "      <td>0.0</td>\n",
       "    </tr>\n",
       "  </tbody>\n",
       "</table>\n",
       "</div>"
      ],
      "text/plain": [
       "                                      Feature\\Sample  CSM5FZ3N_P  CSM5FZ3R_P  \\\n",
       "0                                           UNMAPPED    334835.0    314137.0   \n",
       "1                                       UNINTEGRATED    626270.0    645653.0   \n",
       "2      UNINTEGRATED|g__Absiella.s__Absiella_dolichum         0.0         0.0   \n",
       "3  UNINTEGRATED|g__Acidaminococcus.s__Acidaminoco...         0.0         0.0   \n",
       "4  UNINTEGRATED|g__Acidaminococcus.s__Acidaminoco...         0.0         0.0   \n",
       "\n",
       "   CSM5FZ3T_P  CSM5FZ3V_P  CSM5FZ3X_P  CSM5FZ3Z_P  CSM5FZ42_P  CSM5FZ44_P  \\\n",
       "0    211847.0    258470.0    262821.0    243972.0    248419.0    259163.0   \n",
       "1    754069.0    697813.0    699100.0    713431.0    712841.0    703675.0   \n",
       "2         0.0         0.0         0.0         0.0         0.0         0.0   \n",
       "3         0.0         0.0         0.0         0.0         0.0         0.0   \n",
       "4         0.0         0.0         0.0         0.0         0.0         0.0   \n",
       "\n",
       "   CSM5FZ46_P  \n",
       "0    252207.0  \n",
       "1    707898.0  \n",
       "2         0.0  \n",
       "3         0.0  \n",
       "4         0.0  "
      ]
     },
     "execution_count": 15,
     "metadata": {},
     "output_type": "execute_result"
    }
   ],
   "source": [
    "import pandas as pd\n",
    "# Load the merged TSV file\n",
    "path_df = pd.read_csv(\"pathabundances_3.tsv\", sep=\"\\t\")\n",
    "\n",
    "# Rename columns by removing '_profile' suffix (skip the first column)\n",
    "path_df.columns = [col.replace('_pathabundance_cpm', '') for col in path_df.columns]\n",
    "\n",
    "# Display the first 5 rows and first 10 columns\n",
    "path_df.iloc[:5, :10]"
   ]
  },
  {
   "cell_type": "code",
   "execution_count": 17,
   "id": "cf9f2875-1f8c-4a44-8d24-1e108bff2c2b",
   "metadata": {
    "tags": []
   },
   "outputs": [
    {
     "data": {
      "text/html": [
       "<div>\n",
       "<style scoped>\n",
       "    .dataframe tbody tr th:only-of-type {\n",
       "        vertical-align: middle;\n",
       "    }\n",
       "\n",
       "    .dataframe tbody tr th {\n",
       "        vertical-align: top;\n",
       "    }\n",
       "\n",
       "    .dataframe thead th {\n",
       "        text-align: right;\n",
       "    }\n",
       "</style>\n",
       "<table border=\"1\" class=\"dataframe\">\n",
       "  <thead>\n",
       "    <tr style=\"text-align: right;\">\n",
       "      <th></th>\n",
       "      <th>Feature\\Sample</th>\n",
       "      <th>CSM5FZ3N_P</th>\n",
       "      <th>CSM5FZ3R_P</th>\n",
       "      <th>CSM5FZ3T_P</th>\n",
       "      <th>CSM5FZ3V_P</th>\n",
       "      <th>CSM5FZ3X_P</th>\n",
       "      <th>CSM5FZ3Z_P</th>\n",
       "      <th>CSM5FZ42_P</th>\n",
       "      <th>CSM5FZ44_P</th>\n",
       "      <th>CSM5FZ46_P</th>\n",
       "    </tr>\n",
       "  </thead>\n",
       "  <tbody>\n",
       "    <tr>\n",
       "      <th>0</th>\n",
       "      <td>1CMET2-PWY: N10-formyl-tetrahydrofolate biosyn...</td>\n",
       "      <td>430.803</td>\n",
       "      <td>467.145</td>\n",
       "      <td>452.468</td>\n",
       "      <td>476.92200</td>\n",
       "      <td>407.538</td>\n",
       "      <td>467.05</td>\n",
       "      <td>464.769</td>\n",
       "      <td>462.125</td>\n",
       "      <td>477.567</td>\n",
       "    </tr>\n",
       "    <tr>\n",
       "      <th>1</th>\n",
       "      <td>1CMET2-PWY: N10-formyl-tetrahydrofolate biosyn...</td>\n",
       "      <td>0.000</td>\n",
       "      <td>0.000</td>\n",
       "      <td>0.000</td>\n",
       "      <td>0.00000</td>\n",
       "      <td>0.000</td>\n",
       "      <td>0.00</td>\n",
       "      <td>0.000</td>\n",
       "      <td>0.000</td>\n",
       "      <td>0.000</td>\n",
       "    </tr>\n",
       "    <tr>\n",
       "      <th>2</th>\n",
       "      <td>1CMET2-PWY: N10-formyl-tetrahydrofolate biosyn...</td>\n",
       "      <td>0.000</td>\n",
       "      <td>0.000</td>\n",
       "      <td>0.000</td>\n",
       "      <td>0.00000</td>\n",
       "      <td>0.000</td>\n",
       "      <td>0.00</td>\n",
       "      <td>0.000</td>\n",
       "      <td>0.000</td>\n",
       "      <td>0.000</td>\n",
       "    </tr>\n",
       "    <tr>\n",
       "      <th>3</th>\n",
       "      <td>1CMET2-PWY: N10-formyl-tetrahydrofolate biosyn...</td>\n",
       "      <td>0.000</td>\n",
       "      <td>0.000</td>\n",
       "      <td>0.000</td>\n",
       "      <td>3.71367</td>\n",
       "      <td>0.000</td>\n",
       "      <td>0.00</td>\n",
       "      <td>0.000</td>\n",
       "      <td>0.000</td>\n",
       "      <td>0.000</td>\n",
       "    </tr>\n",
       "    <tr>\n",
       "      <th>4</th>\n",
       "      <td>1CMET2-PWY: N10-formyl-tetrahydrofolate biosyn...</td>\n",
       "      <td>0.000</td>\n",
       "      <td>0.000</td>\n",
       "      <td>0.000</td>\n",
       "      <td>0.00000</td>\n",
       "      <td>0.000</td>\n",
       "      <td>0.00</td>\n",
       "      <td>0.000</td>\n",
       "      <td>0.000</td>\n",
       "      <td>0.000</td>\n",
       "    </tr>\n",
       "  </tbody>\n",
       "</table>\n",
       "</div>"
      ],
      "text/plain": [
       "                                      Feature\\Sample  CSM5FZ3N_P  CSM5FZ3R_P  \\\n",
       "0  1CMET2-PWY: N10-formyl-tetrahydrofolate biosyn...     430.803     467.145   \n",
       "1  1CMET2-PWY: N10-formyl-tetrahydrofolate biosyn...       0.000       0.000   \n",
       "2  1CMET2-PWY: N10-formyl-tetrahydrofolate biosyn...       0.000       0.000   \n",
       "3  1CMET2-PWY: N10-formyl-tetrahydrofolate biosyn...       0.000       0.000   \n",
       "4  1CMET2-PWY: N10-formyl-tetrahydrofolate biosyn...       0.000       0.000   \n",
       "\n",
       "   CSM5FZ3T_P  CSM5FZ3V_P  CSM5FZ3X_P  CSM5FZ3Z_P  CSM5FZ42_P  CSM5FZ44_P  \\\n",
       "0     452.468   476.92200     407.538      467.05     464.769     462.125   \n",
       "1       0.000     0.00000       0.000        0.00       0.000       0.000   \n",
       "2       0.000     0.00000       0.000        0.00       0.000       0.000   \n",
       "3       0.000     3.71367       0.000        0.00       0.000       0.000   \n",
       "4       0.000     0.00000       0.000        0.00       0.000       0.000   \n",
       "\n",
       "   CSM5FZ46_P  \n",
       "0     477.567  \n",
       "1       0.000  \n",
       "2       0.000  \n",
       "3       0.000  \n",
       "4       0.000  "
      ]
     },
     "execution_count": 17,
     "metadata": {},
     "output_type": "execute_result"
    }
   ],
   "source": [
    "# Remove rows where the first column contains 'UNINTEGRATED'\n",
    "path_df = path_df[~path_df.iloc[:, 0].str.contains(\"UNINTEGRATED\", na=False)].reset_index(drop=True)\n",
    "path_df = path_df[~path_df.iloc[:, 0].str.contains(\"UNMAPPED\", na=False)].reset_index(drop=True)\n",
    "\n",
    "# Display the first 5 rows and first 10 columns\n",
    "path_df.iloc[:5, :10]"
   ]
  },
  {
   "cell_type": "code",
   "execution_count": 18,
   "id": "324768ab-be7e-464d-a2ef-5a503d657085",
   "metadata": {
    "tags": []
   },
   "outputs": [
    {
     "data": {
      "text/plain": [
       "21681"
      ]
     },
     "execution_count": 18,
     "metadata": {},
     "output_type": "execute_result"
    }
   ],
   "source": [
    "path_df.shape[0]"
   ]
  },
  {
   "cell_type": "code",
   "execution_count": 19,
   "id": "d90a540d-f672-490c-bd2f-7100efa497ce",
   "metadata": {
    "tags": []
   },
   "outputs": [
    {
     "data": {
      "text/plain": [
       "476"
      ]
     },
     "execution_count": 19,
     "metadata": {},
     "output_type": "execute_result"
    }
   ],
   "source": [
    "# Assume the pathway names are in the first column\n",
    "# Unstratified rows: no taxonomic info (no '|' character)\n",
    "unstratified_df = path_df[~path_df.iloc[:, 0].str.contains(r'\\|', na=False)].copy()\n",
    "\n",
    "unstratified_df.shape[0]"
   ]
  },
  {
   "cell_type": "code",
   "execution_count": 42,
   "id": "09dc8618-0ef0-44a2-8576-9627135d19f7",
   "metadata": {
    "tags": []
   },
   "outputs": [],
   "source": [
    "# Split feature column and numeric data\n",
    "features = unstratified_df.iloc[:, 0]\n",
    "abundances = unstratified_df.iloc[:, 1:].astype(float)\n",
    "\n",
    "# Convert to relative abundances (percent per sample)\n",
    "rel_abundances = abundances.div(abundances.sum(axis=0), axis=1) * 100\n",
    "\n",
    "# Combine with the feature labels\n",
    "unstratified_df_rel_abd = pd.concat([features, rel_abundances], axis=1)\n"
   ]
  },
  {
   "cell_type": "code",
   "execution_count": 43,
   "id": "f1aad564-dc90-436b-9a47-e8d0eb9aaf48",
   "metadata": {
    "tags": []
   },
   "outputs": [
    {
     "data": {
      "text/plain": [
       "334"
      ]
     },
     "execution_count": 43,
     "metadata": {},
     "output_type": "execute_result"
    }
   ],
   "source": [
    "unstratified_df_filter = filter_by_abundance(unstratified_df_rel_abd, \\\n",
    "                                             abundance_threshold=0.01, \\\n",
    "                                             sample_fraction_threshold=0.10, output_path=None)\n",
    "unstratified_df_filter.shape[0]"
   ]
  },
  {
   "cell_type": "code",
   "execution_count": 44,
   "id": "70eb18f8-58a7-4fea-88d1-e14aa6daa9f2",
   "metadata": {
    "tags": []
   },
   "outputs": [
    {
     "data": {
      "text/html": [
       "<div>\n",
       "<style scoped>\n",
       "    .dataframe tbody tr th:only-of-type {\n",
       "        vertical-align: middle;\n",
       "    }\n",
       "\n",
       "    .dataframe tbody tr th {\n",
       "        vertical-align: top;\n",
       "    }\n",
       "\n",
       "    .dataframe thead th {\n",
       "        text-align: right;\n",
       "    }\n",
       "</style>\n",
       "<table border=\"1\" class=\"dataframe\">\n",
       "  <thead>\n",
       "    <tr style=\"text-align: right;\">\n",
       "      <th></th>\n",
       "      <th>Feature\\Sample</th>\n",
       "      <th>CSM5FZ3N_P</th>\n",
       "      <th>CSM5FZ3R_P</th>\n",
       "      <th>CSM5FZ3T_P</th>\n",
       "      <th>CSM5FZ3V_P</th>\n",
       "      <th>CSM5FZ3X_P</th>\n",
       "      <th>CSM5FZ3Z_P</th>\n",
       "      <th>CSM5FZ42_P</th>\n",
       "      <th>CSM5FZ44_P</th>\n",
       "      <th>CSM5FZ46_P</th>\n",
       "    </tr>\n",
       "  </thead>\n",
       "  <tbody>\n",
       "    <tr>\n",
       "      <th>0</th>\n",
       "      <td>1CMET2-PWY: N10-formyl-tetrahydrofolate biosyn...</td>\n",
       "      <td>1.107608</td>\n",
       "      <td>1.161743</td>\n",
       "      <td>1.327509</td>\n",
       "      <td>1.090935</td>\n",
       "      <td>1.070247</td>\n",
       "      <td>1.096435</td>\n",
       "      <td>1.199713</td>\n",
       "      <td>1.243527</td>\n",
       "      <td>1.197085</td>\n",
       "    </tr>\n",
       "    <tr>\n",
       "      <th>213</th>\n",
       "      <td>ANAEROFRUCAT-PWY: homolactic fermentation</td>\n",
       "      <td>0.617621</td>\n",
       "      <td>0.516243</td>\n",
       "      <td>0.491389</td>\n",
       "      <td>0.521490</td>\n",
       "      <td>0.464173</td>\n",
       "      <td>0.548753</td>\n",
       "      <td>0.479205</td>\n",
       "      <td>0.474143</td>\n",
       "      <td>0.533998</td>\n",
       "    </tr>\n",
       "    <tr>\n",
       "      <th>241</th>\n",
       "      <td>ANAGLYCOLYSIS-PWY: glycolysis III (from glucose)</td>\n",
       "      <td>0.951518</td>\n",
       "      <td>0.924192</td>\n",
       "      <td>1.045711</td>\n",
       "      <td>0.948376</td>\n",
       "      <td>0.838554</td>\n",
       "      <td>0.930039</td>\n",
       "      <td>0.973118</td>\n",
       "      <td>1.053321</td>\n",
       "      <td>0.988525</td>\n",
       "    </tr>\n",
       "    <tr>\n",
       "      <th>323</th>\n",
       "      <td>ARG+POLYAMINE-SYN: superpathway of arginine an...</td>\n",
       "      <td>0.000000</td>\n",
       "      <td>0.019752</td>\n",
       "      <td>0.050296</td>\n",
       "      <td>0.032625</td>\n",
       "      <td>0.141106</td>\n",
       "      <td>0.135872</td>\n",
       "      <td>0.147952</td>\n",
       "      <td>0.036195</td>\n",
       "      <td>0.081265</td>\n",
       "    </tr>\n",
       "    <tr>\n",
       "      <th>337</th>\n",
       "      <td>ARGDEG-PWY: superpathway of L-arginine, putres...</td>\n",
       "      <td>0.000000</td>\n",
       "      <td>0.000000</td>\n",
       "      <td>0.000000</td>\n",
       "      <td>0.000000</td>\n",
       "      <td>0.000000</td>\n",
       "      <td>0.000000</td>\n",
       "      <td>0.000000</td>\n",
       "      <td>0.000000</td>\n",
       "      <td>0.000000</td>\n",
       "    </tr>\n",
       "  </tbody>\n",
       "</table>\n",
       "</div>"
      ],
      "text/plain": [
       "                                        Feature\\Sample  CSM5FZ3N_P  \\\n",
       "0    1CMET2-PWY: N10-formyl-tetrahydrofolate biosyn...    1.107608   \n",
       "213          ANAEROFRUCAT-PWY: homolactic fermentation    0.617621   \n",
       "241   ANAGLYCOLYSIS-PWY: glycolysis III (from glucose)    0.951518   \n",
       "323  ARG+POLYAMINE-SYN: superpathway of arginine an...    0.000000   \n",
       "337  ARGDEG-PWY: superpathway of L-arginine, putres...    0.000000   \n",
       "\n",
       "     CSM5FZ3R_P  CSM5FZ3T_P  CSM5FZ3V_P  CSM5FZ3X_P  CSM5FZ3Z_P  CSM5FZ42_P  \\\n",
       "0      1.161743    1.327509    1.090935    1.070247    1.096435    1.199713   \n",
       "213    0.516243    0.491389    0.521490    0.464173    0.548753    0.479205   \n",
       "241    0.924192    1.045711    0.948376    0.838554    0.930039    0.973118   \n",
       "323    0.019752    0.050296    0.032625    0.141106    0.135872    0.147952   \n",
       "337    0.000000    0.000000    0.000000    0.000000    0.000000    0.000000   \n",
       "\n",
       "     CSM5FZ44_P  CSM5FZ46_P  \n",
       "0      1.243527    1.197085  \n",
       "213    0.474143    0.533998  \n",
       "241    1.053321    0.988525  \n",
       "323    0.036195    0.081265  \n",
       "337    0.000000    0.000000  "
      ]
     },
     "execution_count": 44,
     "metadata": {},
     "output_type": "execute_result"
    }
   ],
   "source": [
    "unstratified_df_filter.iloc[:5, :10]"
   ]
  },
  {
   "cell_type": "code",
   "execution_count": 45,
   "id": "9ad01b76-6e90-4c2f-a32a-e5569631080f",
   "metadata": {
    "tags": []
   },
   "outputs": [],
   "source": [
    "unstratified_df_filter.to_csv(\"pathabundances_3_unstratified_filter.tsv\", sep=\"\\t\", index=False)"
   ]
  },
  {
   "cell_type": "code",
   "execution_count": 46,
   "id": "32241270-2840-44c4-aa42-8b88e661441a",
   "metadata": {
    "tags": []
   },
   "outputs": [
    {
     "data": {
      "text/plain": [
       "21205"
      ]
     },
     "execution_count": 46,
     "metadata": {},
     "output_type": "execute_result"
    }
   ],
   "source": [
    "\n",
    "# Stratified rows: contain taxonomic info\n",
    "stratified_df = path_df[path_df.iloc[:, 0].str.contains(r'\\|', na=False)].copy()\n",
    "\n",
    "stratified_df.shape[0]"
   ]
  },
  {
   "cell_type": "code",
   "execution_count": 47,
   "id": "d59a94b3-4fa9-4ea3-9eb9-7d180644ce7d",
   "metadata": {
    "tags": []
   },
   "outputs": [],
   "source": [
    "# Split feature column and numeric data\n",
    "features = stratified_df.iloc[:, 0]\n",
    "abundances = stratified_df.iloc[:, 1:].astype(float)\n",
    "\n",
    "# Convert to relative abundances (percent per sample)\n",
    "rel_abundances = abundances.div(abundances.sum(axis=0), axis=1) * 100\n",
    "\n",
    "# Combine with the feature labels\n",
    "stratified_df_rel_abd = pd.concat([features, rel_abundances], axis=1)\n"
   ]
  },
  {
   "cell_type": "code",
   "execution_count": 48,
   "id": "fba9a1d0-18e4-4fd4-bb76-52c8f02c43f6",
   "metadata": {
    "tags": []
   },
   "outputs": [
    {
     "data": {
      "text/plain": [
       "2724"
      ]
     },
     "execution_count": 48,
     "metadata": {},
     "output_type": "execute_result"
    }
   ],
   "source": [
    "stratified_df_filter = filter_by_abundance(stratified_df_rel_abd, abundance_threshold=0.01, \\\n",
    "                                           sample_fraction_threshold=0.10, output_path=None)\n",
    "stratified_df_filter.shape[0]"
   ]
  },
  {
   "cell_type": "markdown",
   "id": "4b019bc7-2bb9-43fd-aad5-e7563e3692a2",
   "metadata": {},
   "source": [
    "2724 is still too large"
   ]
  },
  {
   "cell_type": "code",
   "execution_count": 49,
   "id": "cc963856-0258-4e58-8da9-ab4fe68a4ecc",
   "metadata": {
    "tags": []
   },
   "outputs": [
    {
     "data": {
      "text/plain": [
       "653"
      ]
     },
     "execution_count": 49,
     "metadata": {},
     "output_type": "execute_result"
    }
   ],
   "source": [
    "stratified_df_filter = filter_by_abundance(stratified_df_rel_abd, abundance_threshold=0.1, \\\n",
    "                                           sample_fraction_threshold=0.10, output_path=None)\n",
    "stratified_df_filter.shape[0]"
   ]
  },
  {
   "cell_type": "code",
   "execution_count": 50,
   "id": "8bf2adbb-52fc-416f-be4b-8e93a768d2bd",
   "metadata": {
    "tags": []
   },
   "outputs": [],
   "source": [
    "stratified_df_filter.to_csv(\"pathabundances_3_stratified_filter.tsv\", sep=\"\\t\", index=False)"
   ]
  },
  {
   "cell_type": "markdown",
   "id": "04415cb5-8d56-4415-a7bf-ebaf81eb0994",
   "metadata": {},
   "source": [
    "# ECS"
   ]
  },
  {
   "cell_type": "code",
   "execution_count": 51,
   "id": "49960ce2-eaf8-404f-ab50-ccff448e0770",
   "metadata": {
    "tags": []
   },
   "outputs": [
    {
     "name": "stderr",
     "output_type": "stream",
     "text": [
      "/tmp/ipykernel_32264/486611580.py:3: DtypeWarning: Columns (1,2,3,4,5,6,7,8,9,10,11,12,13,14,15,16,17,18,19,20,21,22,23,24,25,26,27,28,29,30,31,32,33,34,35,36,37,38,39,40,41,42,43,44,45,46,47,48,49,50,51,52,53,54,55,56,57,58,59,60,61,62,63,64,65,66,67,68,69,70,71,72,73,74,75,76,77,78,79,80,81,82,83,84,85,86,87,88,89,90,91,92,93,94,95,96,97,98,99,100,101,102,103,104,105,106,107,108,109,110,111,112,113,114,115,116,117,118,119,120,121,122,123,124,125,126,127,128,129,130,131,132,133,134,135,136,137,138,139,140,141,142,143,144,145,146,147,148,149,150,151,152,153,154,155,156,157,158,159,160,161,162,163,164,165,166,167,168,169,170,171,172,173,174,175,176,177,178,179,180,181,182,183,184,185,186,187,188,189,190,191,192,193,194,195,196,197,198,199,200,201,202,203,204,205,206,207,208,209,210,211,212,213,214,215,216,217,218,219,220,221,222,223,224,225,226,227,228,229,230,231,232,233,234,235,236,237,238,239,240,241,242,243,244,245,246,247,248,249,250,251,252,253,254,255,256,257,258,259,260,261,262,263,264,265,266,267,268,269,270,271,272,273,274,275,276,277,278,279,280,281,282,283,284,285,286,287,288,289,290,291,292,293,294,295,296,297,298,299,300,301,302,303,304,305,306,307,308,309,310,311,312,313,314,315,316,317,318,319,320,321,322,323,324,325,326,327,328,329,330,331,332,333,334,335,336,337,338,339,340,341,342,343,344,345,346,347,348,349,350,351,352,353,354,355,356,357,358,359,360,361,362,363,364,365,366,367,368,369,370,371,372,373,374,375,376,377,378,379,380,381,382,383,384,385,386,387,388,389,390,391,392,393,394,395,396,397,398,399,400,401,402,403,404,405,406,407,408,409,410,411,412,413,414,415,416,417,418,419,420,421,422,423,424,425,426,427,428,429,430,431,432,433,434,435,436,437,438,439,440,441,442,443,444,445,446,447,448,449,450,451,452,453,454,455,456,457,458,459,460,461,462,463,464,465,466,467,468,469,470,471,472,473,474,475,476,477,478,479,480,481,482,483,484,485,486,487,488,489,490,491,492,493,494,495,496,497,498,499,500,501,502,503,504,505,506,507,508,509,510,511,512,513,514,515,516,517,518,519,520,521,522,523,524,525,526,527,528,529,530,531,532,533,534,535,536,537,538,539,540,541,542,543,544,545,546,547,548,549,550,551,552,553,554,555,556,557,558,559,560,561,562,563,564,565,566,567,568,569,570,571,572,573,574,575,576,577,578,579,580,581,582,583,584,585,586,587,588,589,590,591,592,593,594,595,596,597,598,599,600,601,602,603,604,605,606,607,608,609,610,611,612,613,614,615,616,617,618,619,620,621,622,623,624,625,626,627,628,629,630,631,632,633,634,635,636,637,638,639,640,641,642,643,644,645,646,647,648,649,650,651,652,653,654,655,656,657,658,659,660,661,662,663,664,665,666,667,668,669,670,671,672,673,674,675,676,677,678,679,680,681,682,683,684,685,686,687,688,689,690,691,692,693,694,695,696,697,698,699,700,701,702,703,704,705,706,707,708,709,710,711,712,713,714,715,716,717,718,719,720,721,722,723,724,725,726,727,728,729,730,731,732,733,734,735,736,737,738,739,740,741,742,743,744,745,746,747,748,749,750,751,752,753,754,755,756,757,758,759,760,761,762,763,764,765,766,767,768,769,770,771,772,773,774,775,776,777,778,779,780,781,782,783,784,785,786,787,788,789,790,791,792,793,794,795,796,797,798,799,800,801,802,803,804,805,806,807,808,809,810,811,812,813,814,815,816,817,818,819,820,821,822,823,824,825,826,827,828,829,830,831,832,833,834,835,836,837,838,839,840,841,842,843,844,845,846,847,848,849,850,851,852,853,854,855,856,857,858,859,860,861,862,863,864,865,866,867,868,869,870,871,872,873,874,875,876,877,878,879,880,881,882,883,884,885,886,887,888,889,890,891,892,893,894,895,896,897,898,899,900,901,902,903,904,905,906,907,908,909,910,911,912,913,914,915,916,917,918,919,920,921,922,923,924,925,926,927,928,929,930,931,932,933,934,935,936,937,938,939,940,941,942,943,944,945,946,947,948,949,950,951,952,953,954,955,956,957,958,959,960,961,962,963,964,965,966,967,968,969,970,971,972,973,974,975,976,977,978,979,980,981,982,983,984,985,986,987,988,989,990,991,992,993,994,995,996,997,998,999,1000,1001,1002,1003,1004,1005,1006,1007,1008,1009,1010,1011,1012,1013,1014,1015,1016,1017,1018,1019,1020,1021,1022,1023,1024,1025,1026,1027,1028,1029,1030,1031,1032,1033,1034,1035,1036,1037,1038,1039,1040,1041,1042,1043,1044,1045,1046,1047,1048,1049,1050,1051,1052,1053,1054,1055,1056,1057,1058,1059,1060,1061,1062,1063,1064,1065,1066,1067,1068,1069,1070,1071,1072,1073,1074,1075,1076,1077,1078,1079,1080,1081,1082,1083,1084,1085,1086,1087,1088,1089,1090,1091,1092,1093,1094,1095,1096,1097,1098,1099,1100,1101,1102,1103,1104,1105,1106,1107,1108,1109,1110,1111,1112,1113,1114,1115,1116,1117,1118,1119,1120,1121,1122,1123,1124,1125,1126,1127,1128,1129,1130,1131,1132,1133,1134,1135,1136,1137,1138,1139,1140,1141,1142,1143,1144,1145,1146,1147,1148,1149,1150,1151,1152,1153,1154,1155,1156,1157,1158,1159,1160,1161,1162,1163,1164,1165,1166,1167,1168,1169,1170,1171,1172,1173,1174,1175,1176,1177,1178,1179,1180,1181,1182,1183,1184,1185,1186,1187,1188,1189,1190,1191,1192,1193,1194,1195,1196,1197,1198,1199,1200,1201,1202,1203,1204,1205,1206,1207,1208,1209,1210,1211,1212,1213,1214,1215,1216,1217,1218,1219,1220,1221,1222,1223,1224,1225,1226,1227,1228,1229,1230,1231,1232,1233,1234,1235,1236,1237,1238,1239,1240,1241,1242,1243,1244,1245,1246,1247,1248,1249,1250,1251,1252,1253,1254,1255,1256,1257,1258,1259,1260,1261,1262,1263,1264,1265,1266,1267,1268,1269,1270,1271,1272,1273,1274,1275,1276,1277,1278,1279,1280,1281,1282,1283,1284,1285,1286,1287,1288,1289,1290,1291,1292,1293,1294,1295,1296,1297,1298,1299,1300,1301,1302,1303,1304,1305,1306,1307,1308,1309,1310,1311,1312,1313,1314,1315,1316,1317,1318,1319,1320,1321,1322,1323,1324,1325,1326,1327,1328,1329,1330,1331,1332,1333,1334,1335,1336,1337,1338,1339,1340,1341,1342,1343,1344,1345,1346,1347,1348,1349,1350,1351,1352,1353,1354,1355,1356,1357,1358,1359,1360,1361,1362,1363,1364,1365,1366,1367,1368,1369,1370,1371,1372,1373,1374,1375,1376,1377,1378,1379,1380,1381,1382,1383,1384,1385,1386,1387,1388,1389,1390,1391,1392,1393,1394,1395,1396,1397,1398,1399,1400,1401,1402,1403,1404,1405,1406,1407,1408,1409,1410,1411,1412,1413,1414,1415,1416,1417,1418,1419,1420,1421,1422,1423,1424,1425,1426,1427,1428,1429,1430,1431,1432,1433,1434,1435,1436,1437,1438,1439,1440,1441,1442,1443,1444,1445,1446,1447,1448,1449,1450,1451,1452,1453,1454,1455,1456,1457,1458,1459,1460,1461,1462,1463,1464,1465,1466,1467,1468,1469,1470,1471,1472,1473,1474,1475,1476,1477,1478,1479,1480,1481,1482,1483,1484,1485,1486,1487,1488,1489,1490,1491,1492,1493,1494,1495,1496,1497,1498,1499,1500,1501,1502,1503,1504,1505,1506,1507,1508,1509,1510,1511,1512,1513,1514,1515,1516,1517,1518,1519,1520,1521,1522,1523,1524,1525,1526,1527,1528,1529,1530,1531,1532,1533,1534,1535,1536,1537,1538,1539,1540,1541,1542,1543,1544,1545,1546,1547,1548,1549,1550,1551,1552,1553,1554,1555,1556,1557,1558,1559,1560,1561,1562,1563,1564,1565,1566,1567,1568,1569,1570,1571,1572,1573,1574,1575,1576,1577,1578,1579,1580,1581,1582,1583,1584,1585,1586,1587,1588,1589,1590,1591,1592,1593,1594,1595,1596,1597,1598,1599,1600,1601,1602,1603,1604,1605,1606,1607,1608,1609,1610,1611,1612,1613,1614,1615,1616,1617,1618,1619,1620,1621,1622,1623,1624,1625,1626,1627,1628,1629,1630,1631,1632,1633,1634,1635) have mixed types. Specify dtype option on import or set low_memory=False.\n",
      "  ecs_df = pd.read_csv(\"ecs_3.tsv\", sep=\"\\t\")\n"
     ]
    },
    {
     "ename": "ValueError",
     "evalue": "Length mismatch: Expected axis has 1636 elements, new values have 1639 elements",
     "output_type": "error",
     "traceback": [
      "\u001b[0;31m---------------------------------------------------------------------------\u001b[0m",
      "\u001b[0;31mValueError\u001b[0m                                Traceback (most recent call last)",
      "Cell \u001b[0;32mIn[51], line 6\u001b[0m\n\u001b[1;32m      3\u001b[0m ecs_df \u001b[38;5;241m=\u001b[39m pd\u001b[38;5;241m.\u001b[39mread_csv(\u001b[38;5;124m\"\u001b[39m\u001b[38;5;124mecs_3.tsv\u001b[39m\u001b[38;5;124m\"\u001b[39m, sep\u001b[38;5;241m=\u001b[39m\u001b[38;5;124m\"\u001b[39m\u001b[38;5;130;01m\\t\u001b[39;00m\u001b[38;5;124m\"\u001b[39m)\n\u001b[1;32m      5\u001b[0m \u001b[38;5;66;03m# Rename columns by removing '_profile' suffix (skip the first column)\u001b[39;00m\n\u001b[0;32m----> 6\u001b[0m ecs_df\u001b[38;5;241m.\u001b[39mcolumns \u001b[38;5;241m=\u001b[39m [col\u001b[38;5;241m.\u001b[39mreplace(\u001b[38;5;124m'\u001b[39m\u001b[38;5;124m_pathabundance_cpm\u001b[39m\u001b[38;5;124m'\u001b[39m, \u001b[38;5;124m'\u001b[39m\u001b[38;5;124m'\u001b[39m) \u001b[38;5;28;01mfor\u001b[39;00m col \u001b[38;5;129;01min\u001b[39;00m path_df\u001b[38;5;241m.\u001b[39mcolumns]\n\u001b[1;32m      8\u001b[0m \u001b[38;5;66;03m# Display the first 5 rows and first 10 columns\u001b[39;00m\n\u001b[1;32m      9\u001b[0m ecs_df\u001b[38;5;241m.\u001b[39miloc[:\u001b[38;5;241m5\u001b[39m, :\u001b[38;5;241m10\u001b[39m]\n",
      "File \u001b[0;32m/home/software/anaconda3/2023.07/lib/python3.11/site-packages/pandas/core/generic.py:5915\u001b[0m, in \u001b[0;36mNDFrame.__setattr__\u001b[0;34m(self, name, value)\u001b[0m\n\u001b[1;32m   5913\u001b[0m \u001b[38;5;28;01mtry\u001b[39;00m:\n\u001b[1;32m   5914\u001b[0m     \u001b[38;5;28mobject\u001b[39m\u001b[38;5;241m.\u001b[39m\u001b[38;5;21m__getattribute__\u001b[39m(\u001b[38;5;28mself\u001b[39m, name)\n\u001b[0;32m-> 5915\u001b[0m     \u001b[38;5;28;01mreturn\u001b[39;00m \u001b[38;5;28mobject\u001b[39m\u001b[38;5;241m.\u001b[39m\u001b[38;5;21m__setattr__\u001b[39m(\u001b[38;5;28mself\u001b[39m, name, value)\n\u001b[1;32m   5916\u001b[0m \u001b[38;5;28;01mexcept\u001b[39;00m \u001b[38;5;167;01mAttributeError\u001b[39;00m:\n\u001b[1;32m   5917\u001b[0m     \u001b[38;5;28;01mpass\u001b[39;00m\n",
      "File \u001b[0;32m/home/software/anaconda3/2023.07/lib/python3.11/site-packages/pandas/_libs/properties.pyx:69\u001b[0m, in \u001b[0;36mpandas._libs.properties.AxisProperty.__set__\u001b[0;34m()\u001b[0m\n",
      "File \u001b[0;32m/home/software/anaconda3/2023.07/lib/python3.11/site-packages/pandas/core/generic.py:823\u001b[0m, in \u001b[0;36mNDFrame._set_axis\u001b[0;34m(self, axis, labels)\u001b[0m\n\u001b[1;32m    821\u001b[0m \u001b[38;5;28;01mdef\u001b[39;00m \u001b[38;5;21m_set_axis\u001b[39m(\u001b[38;5;28mself\u001b[39m, axis: \u001b[38;5;28mint\u001b[39m, labels: AnyArrayLike \u001b[38;5;241m|\u001b[39m \u001b[38;5;28mlist\u001b[39m) \u001b[38;5;241m-\u001b[39m\u001b[38;5;241m>\u001b[39m \u001b[38;5;28;01mNone\u001b[39;00m:\n\u001b[1;32m    822\u001b[0m     labels \u001b[38;5;241m=\u001b[39m ensure_index(labels)\n\u001b[0;32m--> 823\u001b[0m     \u001b[38;5;28mself\u001b[39m\u001b[38;5;241m.\u001b[39m_mgr\u001b[38;5;241m.\u001b[39mset_axis(axis, labels)\n\u001b[1;32m    824\u001b[0m     \u001b[38;5;28mself\u001b[39m\u001b[38;5;241m.\u001b[39m_clear_item_cache()\n",
      "File \u001b[0;32m/home/software/anaconda3/2023.07/lib/python3.11/site-packages/pandas/core/internals/managers.py:230\u001b[0m, in \u001b[0;36mBaseBlockManager.set_axis\u001b[0;34m(self, axis, new_labels)\u001b[0m\n\u001b[1;32m    228\u001b[0m \u001b[38;5;28;01mdef\u001b[39;00m \u001b[38;5;21mset_axis\u001b[39m(\u001b[38;5;28mself\u001b[39m, axis: \u001b[38;5;28mint\u001b[39m, new_labels: Index) \u001b[38;5;241m-\u001b[39m\u001b[38;5;241m>\u001b[39m \u001b[38;5;28;01mNone\u001b[39;00m:\n\u001b[1;32m    229\u001b[0m     \u001b[38;5;66;03m# Caller is responsible for ensuring we have an Index object.\u001b[39;00m\n\u001b[0;32m--> 230\u001b[0m     \u001b[38;5;28mself\u001b[39m\u001b[38;5;241m.\u001b[39m_validate_set_axis(axis, new_labels)\n\u001b[1;32m    231\u001b[0m     \u001b[38;5;28mself\u001b[39m\u001b[38;5;241m.\u001b[39maxes[axis] \u001b[38;5;241m=\u001b[39m new_labels\n",
      "File \u001b[0;32m/home/software/anaconda3/2023.07/lib/python3.11/site-packages/pandas/core/internals/base.py:70\u001b[0m, in \u001b[0;36mDataManager._validate_set_axis\u001b[0;34m(self, axis, new_labels)\u001b[0m\n\u001b[1;32m     67\u001b[0m     \u001b[38;5;28;01mpass\u001b[39;00m\n\u001b[1;32m     69\u001b[0m \u001b[38;5;28;01melif\u001b[39;00m new_len \u001b[38;5;241m!=\u001b[39m old_len:\n\u001b[0;32m---> 70\u001b[0m     \u001b[38;5;28;01mraise\u001b[39;00m \u001b[38;5;167;01mValueError\u001b[39;00m(\n\u001b[1;32m     71\u001b[0m         \u001b[38;5;124mf\u001b[39m\u001b[38;5;124m\"\u001b[39m\u001b[38;5;124mLength mismatch: Expected axis has \u001b[39m\u001b[38;5;132;01m{\u001b[39;00mold_len\u001b[38;5;132;01m}\u001b[39;00m\u001b[38;5;124m elements, new \u001b[39m\u001b[38;5;124m\"\u001b[39m\n\u001b[1;32m     72\u001b[0m         \u001b[38;5;124mf\u001b[39m\u001b[38;5;124m\"\u001b[39m\u001b[38;5;124mvalues have \u001b[39m\u001b[38;5;132;01m{\u001b[39;00mnew_len\u001b[38;5;132;01m}\u001b[39;00m\u001b[38;5;124m elements\u001b[39m\u001b[38;5;124m\"\u001b[39m\n\u001b[1;32m     73\u001b[0m     )\n",
      "\u001b[0;31mValueError\u001b[0m: Length mismatch: Expected axis has 1636 elements, new values have 1639 elements"
     ]
    }
   ],
   "source": [
    "import pandas as pd\n",
    "# Load the merged TSV file\n",
    "ecs_df = pd.read_csv(\"ecs_3.tsv\", sep=\"\\t\")\n",
    "\n",
    "# Rename columns by removing '_profile' suffix (skip the first column)\n",
    "ecs_df.columns = [col.replace('_pathabundance_cpm', '') for col in path_df.columns]\n",
    "\n",
    "# Display the first 5 rows and first 10 columns\n",
    "ecs_df.iloc[:5, :10]"
   ]
  },
  {
   "cell_type": "code",
   "execution_count": null,
   "id": "c7d8a251-d31f-4ffb-b7ec-52d88e925803",
   "metadata": {},
   "outputs": [],
   "source": []
  },
  {
   "cell_type": "code",
   "execution_count": null,
   "id": "8d42084b-dbfb-48e9-adeb-a72b63ea28f2",
   "metadata": {},
   "outputs": [],
   "source": []
  }
 ],
 "metadata": {
  "kernelspec": {
   "display_name": "Python 3 (ipykernel)",
   "language": "python",
   "name": "python3"
  },
  "language_info": {
   "codemirror_mode": {
    "name": "ipython",
    "version": 3
   },
   "file_extension": ".py",
   "mimetype": "text/x-python",
   "name": "python",
   "nbconvert_exporter": "python",
   "pygments_lexer": "ipython3",
   "version": "3.11.3"
  }
 },
 "nbformat": 4,
 "nbformat_minor": 5
}
