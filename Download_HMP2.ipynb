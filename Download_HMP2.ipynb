{
 "cells": [
  {
   "cell_type": "code",
   "execution_count": 1,
   "id": "5d9dea4e-972e-4f09-b322-b4b016570ac3",
   "metadata": {},
   "outputs": [],
   "source": [
    "import urllib\n",
    "import os \n",
    "import concurrent.futures\n",
    "\n",
    "import pandas as pd\n",
    "from bs4 import BeautifulSoup"
   ]
  },
  {
   "cell_type": "markdown",
   "id": "ae98754d-d1f3-4efd-9da6-a3f7144c94ce",
   "metadata": {},
   "source": [
    "# Download assemblies/contigs from HMP2 study\n",
    "\n",
    "Got a HMTL of the contigs download links from HMP2 from https://ibdmdb.org/downloads/html/products_MGX_2017-08-12.html\n",
    "\n",
    "Data was processed by the following pipeline https://github.com/biobakery/hmp2_workflows/tree/master/hmp2_workflows\n",
    "\n",
    "TLDR: \n",
    "1. Reads were processed using kneaddata. Trimmomatic and then removal of contaminants with bowtie2 https://huttenhower.sph.harvard.edu/kneaddata/\n",
    "2. Assembled with MEGAHIT"
   ]
  },
  {
   "cell_type": "code",
   "execution_count": 2,
   "id": "3dfb8e78-ef3c-4459-9b70-40c66621a81f",
   "metadata": {},
   "outputs": [],
   "source": [
    "soup = BeautifulSoup(open(\"products_MGX_2017-08-12.html\"), 'html.parser')\n",
    "a_results = soup.find_all(\"a\")"
   ]
  },
  {
   "cell_type": "code",
   "execution_count": 3,
   "id": "41079ef1-277f-4677-a48d-66e352260b1d",
   "metadata": {},
   "outputs": [],
   "source": [
    "download_links = []\n",
    "download_paths = []\n",
    "directory_path = \"/orcd/data/braakman/001/data/assemblies/hmp2\"\n",
    "\n",
    "for element in a_results:\n",
    "    download_link = element.get('href')\n",
    "    if \"contigs\" in download_link:\n",
    "        name = os.path.basename(download_link)\n",
    "        file_path = os.path.join(directory_path, name)\n",
    "        download_links.append(download_link)\n",
    "        download_paths.append(file_path)"
   ]
  },
  {
   "cell_type": "code",
   "execution_count": 64,
   "id": "29ad9166-30d1-47c5-8066-a01603f93dbb",
   "metadata": {},
   "outputs": [
    {
     "data": {
      "text/html": [
       "<div>\n",
       "<style scoped>\n",
       "    .dataframe tbody tr th:only-of-type {\n",
       "        vertical-align: middle;\n",
       "    }\n",
       "\n",
       "    .dataframe tbody tr th {\n",
       "        vertical-align: top;\n",
       "    }\n",
       "\n",
       "    .dataframe thead th {\n",
       "        text-align: right;\n",
       "    }\n",
       "</style>\n",
       "<table border=\"1\" class=\"dataframe\">\n",
       "  <thead>\n",
       "    <tr style=\"text-align: right;\">\n",
       "      <th></th>\n",
       "      <th>Downloaded</th>\n",
       "      <th>Link</th>\n",
       "    </tr>\n",
       "  </thead>\n",
       "  <tbody>\n",
       "    <tr>\n",
       "      <th>0</th>\n",
       "      <td>True</td>\n",
       "      <td>https://g-227ca.190ebd.75bc.data.globus.org/ib...</td>\n",
       "    </tr>\n",
       "    <tr>\n",
       "      <th>1</th>\n",
       "      <td>True</td>\n",
       "      <td>https://g-227ca.190ebd.75bc.data.globus.org/ib...</td>\n",
       "    </tr>\n",
       "    <tr>\n",
       "      <th>2</th>\n",
       "      <td>True</td>\n",
       "      <td>https://g-227ca.190ebd.75bc.data.globus.org/ib...</td>\n",
       "    </tr>\n",
       "    <tr>\n",
       "      <th>3</th>\n",
       "      <td>True</td>\n",
       "      <td>https://g-227ca.190ebd.75bc.data.globus.org/ib...</td>\n",
       "    </tr>\n",
       "    <tr>\n",
       "      <th>4</th>\n",
       "      <td>True</td>\n",
       "      <td>https://g-227ca.190ebd.75bc.data.globus.org/ib...</td>\n",
       "    </tr>\n",
       "    <tr>\n",
       "      <th>...</th>\n",
       "      <td>...</td>\n",
       "      <td>...</td>\n",
       "    </tr>\n",
       "    <tr>\n",
       "      <th>1333</th>\n",
       "      <td>True</td>\n",
       "      <td>https://g-227ca.190ebd.75bc.data.globus.org/ib...</td>\n",
       "    </tr>\n",
       "    <tr>\n",
       "      <th>1334</th>\n",
       "      <td>True</td>\n",
       "      <td>https://g-227ca.190ebd.75bc.data.globus.org/ib...</td>\n",
       "    </tr>\n",
       "    <tr>\n",
       "      <th>1335</th>\n",
       "      <td>True</td>\n",
       "      <td>https://g-227ca.190ebd.75bc.data.globus.org/ib...</td>\n",
       "    </tr>\n",
       "    <tr>\n",
       "      <th>1336</th>\n",
       "      <td>True</td>\n",
       "      <td>https://g-227ca.190ebd.75bc.data.globus.org/ib...</td>\n",
       "    </tr>\n",
       "    <tr>\n",
       "      <th>1337</th>\n",
       "      <td>True</td>\n",
       "      <td>https://g-227ca.190ebd.75bc.data.globus.org/ib...</td>\n",
       "    </tr>\n",
       "  </tbody>\n",
       "</table>\n",
       "<p>1338 rows × 2 columns</p>\n",
       "</div>"
      ],
      "text/plain": [
       "      Downloaded                                               Link\n",
       "0           True  https://g-227ca.190ebd.75bc.data.globus.org/ib...\n",
       "1           True  https://g-227ca.190ebd.75bc.data.globus.org/ib...\n",
       "2           True  https://g-227ca.190ebd.75bc.data.globus.org/ib...\n",
       "3           True  https://g-227ca.190ebd.75bc.data.globus.org/ib...\n",
       "4           True  https://g-227ca.190ebd.75bc.data.globus.org/ib...\n",
       "...          ...                                                ...\n",
       "1333        True  https://g-227ca.190ebd.75bc.data.globus.org/ib...\n",
       "1334        True  https://g-227ca.190ebd.75bc.data.globus.org/ib...\n",
       "1335        True  https://g-227ca.190ebd.75bc.data.globus.org/ib...\n",
       "1336        True  https://g-227ca.190ebd.75bc.data.globus.org/ib...\n",
       "1337        True  https://g-227ca.190ebd.75bc.data.globus.org/ib...\n",
       "\n",
       "[1338 rows x 2 columns]"
      ]
     },
     "execution_count": 64,
     "metadata": {},
     "output_type": "execute_result"
    }
   ],
   "source": [
    "def download_file(link: str, path: str):\n",
    "    try:\n",
    "        urllib.request.urlretrieve(link, path)\n",
    "        return (True, link)\n",
    "    except:\n",
    "        return (False, link)\n",
    "\n",
    "with concurrent.futures.ThreadPoolExecutor() as executor:\n",
    "    downloading = executor.map(download_file, download_links, download_paths)\n",
    "    \n",
    "    download_df = pd.DataFrame(downloading, columns = [\"Downloaded\", \"Link\"])\n",
    "\n",
    "download_df"
   ]
  },
  {
   "cell_type": "code",
   "execution_count": 70,
   "id": "fbbf3167-9270-4c04-b57e-13e07478358f",
   "metadata": {},
   "outputs": [
    {
     "name": "stdout",
     "output_type": "stream",
     "text": [
      "1338\n"
     ]
    },
    {
     "data": {
      "text/plain": [
       "np.True_"
      ]
     },
     "execution_count": 70,
     "metadata": {},
     "output_type": "execute_result"
    }
   ],
   "source": [
    "print(len(download_links))\n",
    "download_df[\"Downloaded\"].sum() == len(download_links)"
   ]
  },
  {
   "cell_type": "markdown",
   "id": "67b195cc-3669-4a8e-b7ad-7332bfe2d09b",
   "metadata": {},
   "source": [
    "All assemblies/contigs have been downloaded"
   ]
  }
 ],
 "metadata": {
  "kernelspec": {
   "display_name": "Python 3 (ipykernel)",
   "language": "python",
   "name": "python3"
  },
  "language_info": {
   "codemirror_mode": {
    "name": "ipython",
    "version": 3
   },
   "file_extension": ".py",
   "mimetype": "text/x-python",
   "name": "python",
   "nbconvert_exporter": "python",
   "pygments_lexer": "ipython3",
   "version": "3.11.3"
  }
 },
 "nbformat": 4,
 "nbformat_minor": 5
}
